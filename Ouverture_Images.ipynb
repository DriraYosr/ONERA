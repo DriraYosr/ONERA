{
 "cells": [
  {
   "cell_type": "markdown",
   "id": "80500fcc",
   "metadata": {},
   "source": [
    "# Ouverture automatique des fichiers TIFF"
   ]
  },
  {
   "cell_type": "markdown",
   "id": "aad119fc",
   "metadata": {},
   "source": [
    " La forme du nom de fichier \"20170103_20200405.tif\" par exemple  est  exprimée comme \"Date de l'image sur laquelle on fait le recalage_Date de l'image_*.tif\"  \n",
    "Dans la cellule suivante du code on fera le tri selon les dates et on extrait les dates des noms des fichiers"
   ]
  },
  {
   "cell_type": "code",
   "execution_count": 1,
   "id": "740384e6",
   "metadata": {},
   "outputs": [
    {
     "name": "stderr",
     "output_type": "stream",
     "text": [
      "C:\\Users\\Drira Yosr\\anaconda3\\lib\\site-packages\\numpy\\_distributor_init.py:30: UserWarning: loaded more than 1 DLL from .libs:\n",
      "C:\\Users\\Drira Yosr\\anaconda3\\lib\\site-packages\\numpy\\.libs\\libopenblas.QVLO2T66WEPI7JZ63PS3HMOHFEY472BC.gfortran-win_amd64.dll\n",
      "C:\\Users\\Drira Yosr\\anaconda3\\lib\\site-packages\\numpy\\.libs\\libopenblas64__v0.3.21-gcc_10_3_0.dll\n",
      "  warnings.warn(\"loaded more than 1 DLL from .libs:\"\n"
     ]
    }
   ],
   "source": [
    "import os\n",
    "import re\n",
    "import tifffile\n"
   ]
  },
  {
   "cell_type": "code",
   "execution_count": 2,
   "id": "6c44efed",
   "metadata": {},
   "outputs": [
    {
     "name": "stdout",
     "output_type": "stream",
     "text": [
      "Reading: 20170103_20170109.tif\n",
      "Reading: 20170103_20170127.tif\n",
      "Reading: 20170103_20170208.tif\n",
      "Reading: 20170103_20181118.tif\n",
      "Reading: 20170103_20200405.tif\n",
      "Reading: 20170103_20211220.tif\n",
      "Dates des images étudiées: ['03/01/2017', '09/01/2017', '27/01/2017', '08/02/2017', '18/11/2018', '05/04/2020', '20/12/2021']\n"
     ]
    }
   ],
   "source": [
    "# Dossier contenant les images\n",
    "dossier = \"C:/Users/Drira Yosr/OneDrive/Bureau/images\"\n",
    "\n",
    "# Obtenez la liste des fichiers dans le dossier\n",
    "liste_fichiers = os.listdir(dossier)\n",
    "pattern = re.compile(r\"(\\d{8})_(\\d{8})\")  # Deux groupes de huit chiffres\n",
    "\n",
    "# Créez une liste de tuples (nom de fichier, date extraite)\n",
    "fichiers_dates = [(fichier, re.search(pattern, fichier).groups()) for fichier in liste_fichiers if re.search(pattern, fichier)]\n",
    "\n",
    "# Triez la liste de tuples par date\n",
    "fichiers_dates_tries = sorted(fichiers_dates, key=lambda x: x[1])\n",
    "\n",
    "# Créez une liste ordonnée des noms de fichiers et des dates\n",
    "fichiers_ordonnes = [fichier[0] for fichier in fichiers_dates_tries]\n",
    "dates = [f\"{fichier[1][1][6:]}/{fichier[1][1][4:6]}/{fichier[1][1][:4]}\" for fichier in fichiers_dates_tries]\n",
    "\n",
    "# Liste pour stocker les données des images dans l'ordre\n",
    "Images_tif_ordonnees = []\n",
    "\n",
    "# Charger les images dans l'ordre correspondant aux noms triés\n",
    "for file_path in fichiers_ordonnes:\n",
    "    try:\n",
    "        print(\"Reading:\", file_path)\n",
    "        image_data = tifffile.imread(os.path.join(dossier, file_path))\n",
    "        Images_tif_ordonnees.append(image_data)\n",
    "    except Exception as e:\n",
    "        print(f\"Error reading {file_path}: {e}\")\n",
    "        \n",
    "dates.insert(0, \"03/01/2017\")\n",
    "# Afficher les dates formattées\n",
    "print(\"Dates des images étudiées:\", dates)\n",
    "\n",
    "# Continuer avec le reste de votre script...\n",
    "\n",
    "\n",
    "Images = [Images_tif_ordonnees[3][0,:,:] + 1j*Images_tif_ordonnees[3][1,:,:]]\n",
    "\n",
    "\n",
    "for k in range ( len(Images_tif_ordonnees)):\n",
    "    Images.append(Images_tif_ordonnees[k][2,:,:] + 1j*Images_tif_ordonnees[k][3,:,:])\n"
   ]
  }
 ],
 "metadata": {
  "kernelspec": {
   "display_name": "Python 3 (ipykernel)",
   "language": "python",
   "name": "python3"
  },
  "language_info": {
   "codemirror_mode": {
    "name": "ipython",
    "version": 3
   },
   "file_extension": ".py",
   "mimetype": "text/x-python",
   "name": "python",
   "nbconvert_exporter": "python",
   "pygments_lexer": "ipython3",
   "version": "3.9.13"
  }
 },
 "nbformat": 4,
 "nbformat_minor": 5
}
