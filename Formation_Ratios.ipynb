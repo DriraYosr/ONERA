{
 "cells": [
  {
   "cell_type": "markdown",
   "id": "7806dc73",
   "metadata": {},
   "source": [
    "# Formation des images RATIO"
   ]
  },
  {
   "cell_type": "markdown",
   "id": "b5503e9d",
   "metadata": {},
   "source": [
    "Après avoir rogné les images (stockées dans `Images_rognees`), on forme les images ratios.\n",
    "Il est nécessaire de commencer par définir la première image de la série temporelle comme référence. Puis, les autres images de la série temporelle sont divisées par rapport à l’image de référence. Cette opération vise à normaliser les différentes acquisitions temporelles par rapport à une base de référence, mettant en évidence les changements relatifs au fil du temps. \n",
    "\n",
    "Les outputs sont stockées dans la liste `Ratios`\n"
   ]
  },
  {
   "cell_type": "code",
   "execution_count": null,
   "id": "77daa267",
   "metadata": {},
   "outputs": [],
   "source": [
    "#Definition de l'image reference\n",
    "reference_image = Images_rognees[0]\n",
    "\n",
    "def ratio(img, reference_img):\n",
    "    # Ajoutez une petite valeur à reference_img pour éviter la division par zéro\n",
    "    for i in range (np.shape(reference_img)[0]):\n",
    "        for j in range (np.shape(reference_img)[1]):\n",
    "             if reference_img[i, j] == 0.+0.j:\n",
    "                    reference_img[i, j] = 1e-3+0.j               \n",
    "    return np.clip(img / reference_image, 1e-3, 10)\n",
    "\n",
    "Ratios = []\n",
    "for k in range(1, len(Images_rognees)):\n",
    "     Ratios.append(np.real(ratio (Images_rognees[k], reference_image)))"
   ]
  }
 ],
 "metadata": {
  "kernelspec": {
   "display_name": "Python 3 (ipykernel)",
   "language": "python",
   "name": "python3"
  },
  "language_info": {
   "codemirror_mode": {
    "name": "ipython",
    "version": 3
   },
   "file_extension": ".py",
   "mimetype": "text/x-python",
   "name": "python",
   "nbconvert_exporter": "python",
   "pygments_lexer": "ipython3",
   "version": "3.9.13"
  }
 },
 "nbformat": 4,
 "nbformat_minor": 5
}
