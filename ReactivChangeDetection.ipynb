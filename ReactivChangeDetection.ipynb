{
 "cells": [
  {
   "cell_type": "markdown",
   "id": "9ef45876",
   "metadata": {},
   "source": [
    "# Reactiv method for change detection\n",
    "La méthode `List2reactiv` est une fonction Python qui prend en entrée une liste d'arrays complexes représentant des données temporelles et retourne trois valeurs :\n",
    "\n",
    "1. `CV` : un tableau de nombres flottants compris entre 0 et 1, représentant le coefficient de variation pour l'axe temporel. Ce coefficient de variation est normalisé entre 0 (valeur moyenne théorique) et 1 (valeur moyenne théorique + écart-type théorique).\n",
    "\n",
    "2. `K` : un tableau de nombres flottants compris entre 0 et 1, représentant la fraction temporelle où l'amplitude maximale est atteinte pendant la période d'observation.\n",
    "\n",
    "3. `Amax` : un tableau d'arrays complexes non normalisés, représentant les valeurs d'amplitude maximale atteintes pendant la période d'observation.\n",
    "\n",
    "La méthode commence par initialiser différentes variables, puis elle parcourt la liste d'arrays complexes, effectuant des calculs statistiques et identifiant les valeurs d'amplitude maximale.\n",
    "\n",
    "Ensuite, elle calcule le coefficient de variation (CV) pour l'axe temporel en utilisant une formule théorique basée sur le nombre équivalent de looks (`L`). Si la valeur de `L` n'est pas spécifiée, elle est automatiquement estimée à partir des données.\n",
    "\n",
    "Finalement, le coefficient de variation est normalisé et les trois résultats sont renvoyés.\n",
    "\n",
    "L'utilisation de cette méthode permet d'analyser et de caractériser la variabilité temporelle des données complexes, en fournissant des mesures normalisées du coefficient de variation, de la fraction temporelle où l'amplitude maximale est atteinte, et des valeurs d'amplitude maximale elles-mêmes."
   ]
  },
  {
   "cell_type": "code",
   "execution_count": null,
   "id": "d14a4e9e",
   "metadata": {},
   "outputs": [],
   "source": [
    "from scipy.special import gamma \n",
    "import numpy as np\n",
    "\n",
    "def List2reactiv(List, L=1):\n",
    "    Nt = len(List)  # temporal dimension\n",
    "\n",
    "    Imax = List[0]\n",
    "\n",
    "    # Compute Coefficient of Variation    \n",
    "    M1 = np.zeros_like(Imax, dtype=np.complex128)\n",
    "    M2 = np.zeros_like(Imax, dtype=np.complex128)\n",
    "    Kmax = np.zeros_like(Imax, dtype=np.float64)\n",
    "    Amax = np.zeros_like(Imax, dtype=np.complex128)\n",
    "\n",
    "    k = 0\n",
    "    for count, im in enumerate(List):\n",
    "        M1 = M1 + im\n",
    "        M2 = M2 + im**2\n",
    "        k = k + 1\n",
    "        Kmax = (np.abs(im) > np.abs(Imax)) * count + (np.abs(im) < np.abs(Imax)) * Kmax \n",
    "        Amax = np.maximum(Amax, im)\n",
    "\n",
    "    M1 = M1 / Nt\n",
    "    M2 = M2 / Nt\n",
    "    K = Kmax / Nt\n",
    "            \n",
    "    # Compute the Coefficient of variation       \n",
    "    R = np.sqrt(M2 - M1**2) / M1 \n",
    "    R[M1 == 0] = 0  # Remove possible Nan Output when Signal is zero\n",
    "    R[M1.real < 0] = 0\n",
    "    \n",
    "    # Theoretical estimation of mean and std of the Coefficient of variation for the given Equivalent Number of Looks     \n",
    "    if L is None:\n",
    "        gam = R.real.mean()\n",
    "        L = ((0.991936 + 0.067646 * gam - 0.098888 * gam**2 - 0.048320 * gam**3) /\n",
    "             (0.001224 - 0.034323 * gam + 4.305577 * gam**2 - 1.163498 * gam**3))\n",
    "    \n",
    "    Rmean = np.sqrt((L * gamma(L)**2 / (gamma(L + 0.5)**2)) - 1)  # theoretical mean value\n",
    "    num = (L * gamma(L)**4 * (4 * (L**2) * gamma(L)**2 - 4 * L * gamma(L + 1/2)**2 - gamma(L + 1/2)**2))\n",
    "    den = (gamma(L + 1/2)**4 * (L * gamma(L)**2 - gamma(L + 1/2)**2))\n",
    "    Rstd = 1 / 4 * num / den / np.sqrt(Nt)  # theoretical standard deviation value\n",
    "    Rmax = Rmean + Rstd\n",
    "\n",
    "    # Recast Coefficient of Variation between 0 (mean value) and 1 (max value)    \n",
    "    CV = (R.real - Rmean.real) / (Rmax.real - Rmean.real)\n",
    "    CV = (CV >= 0) * CV\n",
    "    CV = CV * (CV < 1) + (CV >= 1)\n",
    "    return CV, K, Amax\n"
   ]
  },
  {
   "cell_type": "markdown",
   "id": "967e654f",
   "metadata": {},
   "source": [
    "# Explanation of the coefficient of variation:\n",
    "\n",
    "The CV array is scaled between 0 and 1. Each element in the array represents the coefficient of variation for the corresponding pixel or element in the images.\n",
    "\n",
    "## Interpretation:\n",
    "A value of 0 in the CV array indicates that the temporal variation for that pixel is at the theoretical mean value.\n",
    "Values close to 1 indicate higher temporal variation compared to the mean."
   ]
  },
  {
   "cell_type": "code",
   "execution_count": null,
   "id": "7138506e",
   "metadata": {},
   "outputs": [],
   "source": [
    "plt.imshow(CV, vmin=0.1, vmax=1)\n",
    "plt.colorbar(label='Coefficient of Variation')\n",
    "plt.title('Spatial Distribution of Coefficient of Variation')\n",
    "plt.show()"
   ]
  }
 ],
 "metadata": {
  "kernelspec": {
   "display_name": "Python 3 (ipykernel)",
   "language": "python",
   "name": "python3"
  },
  "language_info": {
   "codemirror_mode": {
    "name": "ipython",
    "version": 3
   },
   "file_extension": ".py",
   "mimetype": "text/x-python",
   "name": "python",
   "nbconvert_exporter": "python",
   "pygments_lexer": "ipython3",
   "version": "3.10.11"
  }
 },
 "nbformat": 4,
 "nbformat_minor": 5
}
