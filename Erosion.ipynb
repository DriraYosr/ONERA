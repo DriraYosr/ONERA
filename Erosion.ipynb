{
 "cells": [
  {
   "cell_type": "markdown",
   "id": "c3c555a5",
   "metadata": {},
   "source": [
    "# Traitement morphologique:\n",
    "## Erosion: suppression des pixels blancs hors de la zone d'intérêt:\n",
    "La fonction prédefinie `morphology.remove_small_objects` de la bibliothèque `skimage` est utilisée\n",
    "\n",
    "Apres avoir obtenu les images binaire stockées dans la liste `Images_bw` ette opération de traitement d'image vise à purifier la représentation visuelle en éliminant les éléments indésirables de dimensions réduites, concentrant ainsi l'analyse sur la zone principale d'intérêt, à savoir la décharge.             \n",
    "\n",
    "Les images produits de l'érosion sont stockées dans la liste `Images_ero`"
   ]
  },
  {
   "cell_type": "code",
   "execution_count": 1,
   "id": "8bc23bfe",
   "metadata": {},
   "outputs": [
    {
     "name": "stderr",
     "output_type": "stream",
     "text": [
      "C:\\Users\\Drira Yosr\\anaconda3\\lib\\site-packages\\numpy\\_distributor_init.py:30: UserWarning: loaded more than 1 DLL from .libs:\n",
      "C:\\Users\\Drira Yosr\\anaconda3\\lib\\site-packages\\numpy\\.libs\\libopenblas.QVLO2T66WEPI7JZ63PS3HMOHFEY472BC.gfortran-win_amd64.dll\n",
      "C:\\Users\\Drira Yosr\\anaconda3\\lib\\site-packages\\numpy\\.libs\\libopenblas64__v0.3.21-gcc_10_3_0.dll\n",
      "  warnings.warn(\"loaded more than 1 DLL from .libs:\"\n"
     ]
    }
   ],
   "source": [
    "import numpy as np\n",
    "import matplotlib.pyplot as plt\n",
    "from skimage import morphology, color"
   ]
  },
  {
   "cell_type": "code",
   "execution_count": null,
   "id": "6f0000e4",
   "metadata": {},
   "outputs": [],
   "source": [
    "def remove_small_spots_skimage(image, min_size):\n",
    "\n",
    "    # Binarisation l'image\n",
    "    binary_image = image > 0.5  # Ajustez le seuil selon votre image\n",
    "\n",
    "    # Utilisation de la fonction remove_small_objects\n",
    "    binary_image_no_small = morphology.remove_small_objects(binary_image, min_size=min_size, connectivity=1)\n",
    "\n",
    "    plt.figure(figsize=(10, 4))\n",
    "    plt.subplot(1, 2, 1)\n",
    "    plt.imshow(binary_image, cmap='gray')\n",
    "    plt.title('Image originale')\n",
    "\n",
    "    plt.subplot(1, 2, 2)\n",
    "    plt.imshow(binary_image_no_small, cmap='gray')\n",
    "    plt.title(\"Résultats de l'érosion\")\n",
    "\n",
    "    plt.show()\n",
    "\n",
    "    return binary_image_no_small\n",
    "\n",
    "min_size = 50  \n",
    "\n",
    "Images_ero=[]\n",
    "for k in range (nbr):\n",
    "    Images_ero.append(remove_small_spots_skimage(Images_bw[k], min_size))"
   ]
  }
 ],
 "metadata": {
  "kernelspec": {
   "display_name": "Python 3 (ipykernel)",
   "language": "python",
   "name": "python3"
  },
  "language_info": {
   "codemirror_mode": {
    "name": "ipython",
    "version": 3
   },
   "file_extension": ".py",
   "mimetype": "text/x-python",
   "name": "python",
   "nbconvert_exporter": "python",
   "pygments_lexer": "ipython3",
   "version": "3.9.13"
  }
 },
 "nbformat": 4,
 "nbformat_minor": 5
}
