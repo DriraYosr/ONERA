{
 "cells": [
  {
   "cell_type": "code",
   "execution_count": 2,
   "id": "02bdfc00",
   "metadata": {},
   "outputs": [
    {
     "name": "stderr",
     "output_type": "stream",
     "text": [
      "C:\\Users\\Drira Yosr\\anaconda3\\lib\\site-packages\\numpy\\_distributor_init.py:30: UserWarning: loaded more than 1 DLL from .libs:\n",
      "C:\\Users\\Drira Yosr\\anaconda3\\lib\\site-packages\\numpy\\.libs\\libopenblas.QVLO2T66WEPI7JZ63PS3HMOHFEY472BC.gfortran-win_amd64.dll\n",
      "C:\\Users\\Drira Yosr\\anaconda3\\lib\\site-packages\\numpy\\.libs\\libopenblas64__v0.3.21-gcc_10_3_0.dll\n",
      "  warnings.warn(\"loaded more than 1 DLL from .libs:\"\n"
     ]
    }
   ],
   "source": [
    "import cv2"
   ]
  },
  {
   "cell_type": "markdown",
   "id": "6e2138a0",
   "metadata": {},
   "source": [
    "# Seuillage\n",
    "La liste `Images_denoised` contient les resultats des images débruitées.\n",
    "\n",
    "Le code fourni réalise un processus de seuillage d'images à niveaux de gris à l'aide de la bibliothèque OpenCV en Python. La fonction principale, appelée `seuillage`, prend une image en niveaux de gris et un seuil en entrée, puis applique un seuillage binaire pour obtenir une image binaire résultante. On defini les seuils arbitrairement puis on fait des ajustements de quelques valeurs selon les images. Le seuillage est un processus qui transforme une image en une version binaire en assignant une valeur à chaque pixel en fonction de son intensité par rapport à un seuil prédéfini. Le code utilise une liste de seuils spécifiés pour chaque image, puis applique la fonction de seuillage à chacune des images préalablement traitées pour créer une nouvelle liste d'images binaires. \n",
    " \n",
    "La liste `image_bw` (black&white) contient les images resultant du seuillage."
   ]
  },
  {
   "cell_type": "code",
   "execution_count": 28,
   "id": "ef4eb779",
   "metadata": {},
   "outputs": [],
   "source": [
    "def seuillage(image_gris, seuil):\n",
    "    _, image_bw = cv2.threshold(image_gris, seuil, 255, cv2.THRESH_BINARY)\n",
    "    return image_bw\n",
    "\n",
    "\n",
    "# Spécification du seuil \n",
    "# Liste des seuils définie à 2.5 (valeur par défaut)\n",
    "seuils = [2.5]*nbr  \n",
    "seuils[3]=1\n",
    "seuils[4]=1\n",
    "Images_bw = []\n",
    "\n",
    "# Appliquer le seuillage pour chaque image\n",
    "for k in range(nbr):\n",
    "    seuil = seuils[k]\n",
    "    Images_bw.append(seuillage(Images_denoised[k], seuil))\n"
   ]
  }
 ],
 "metadata": {
  "kernelspec": {
   "display_name": "Python 3 (ipykernel)",
   "language": "python",
   "name": "python3"
  },
  "language_info": {
   "codemirror_mode": {
    "name": "ipython",
    "version": 3
   },
   "file_extension": ".py",
   "mimetype": "text/x-python",
   "name": "python",
   "nbconvert_exporter": "python",
   "pygments_lexer": "ipython3",
   "version": "3.9.13"
  }
 },
 "nbformat": 4,
 "nbformat_minor": 5
}
