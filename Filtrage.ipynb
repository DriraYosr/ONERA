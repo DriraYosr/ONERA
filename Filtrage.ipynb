{
 "cells": [
  {
   "cell_type": "markdown",
   "id": "a60f57cb",
   "metadata": {},
   "source": [
    "# Débruitage avec le filtre TV-Bregman: \n",
    "Lissage des images avec la fonction prédefinie `denoise_tv_bregman` de skimage"
   ]
  },
  {
   "cell_type": "markdown",
   "id": "3afeb65f",
   "metadata": {},
   "source": [
    "La liste `Images_denoised` contient les outputs, resultats du débruitage. Afin d’éliminer le bruit et de lisser les images, les différentes images ratio sont filtrées par un filtre de TV-Bregman avec un poids de 0.1. "
   ]
  },
  {
   "cell_type": "code",
   "execution_count": null,
   "id": "20ee97cd",
   "metadata": {},
   "outputs": [],
   "source": [
    "from skimage.restoration import denoise_tv_bregman\n",
    "import matplotlib.pyplot as plt\n",
    "import numpy as np"
   ]
  },
  {
   "cell_type": "code",
   "execution_count": null,
   "id": "de8bbf5b",
   "metadata": {},
   "outputs": [],
   "source": [
    "Images_denoised = []\n",
    "\n",
    "for k in range(nbr):\n",
    "    Images_denoised.append(denoise_tv_bregman(Ratios[k], weight=0.1))\n",
    "\n",
    "# Affichage des images débruitées:\n",
    "for k in range(nbr):\n",
    "    plt.imshow(Images_denoised[k], cmap=\"gray\", vmax=vmax_values[k] * np.max(Images_denoised[k]))\n",
    "    plt.title(f\"Image {k+1}\")\n",
    "    plt.show()"
   ]
  }
 ],
 "metadata": {
  "kernelspec": {
   "display_name": "Python 3 (ipykernel)",
   "language": "python",
   "name": "python3"
  },
  "language_info": {
   "codemirror_mode": {
    "name": "ipython",
    "version": 3
   },
   "file_extension": ".py",
   "mimetype": "text/x-python",
   "name": "python",
   "nbconvert_exporter": "python",
   "pygments_lexer": "ipython3",
   "version": "3.9.13"
  }
 },
 "nbformat": 4,
 "nbformat_minor": 5
}
