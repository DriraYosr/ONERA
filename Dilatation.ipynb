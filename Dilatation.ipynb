{
 "cells": [
  {
   "cell_type": "markdown",
   "id": "cf83ca3a",
   "metadata": {},
   "source": [
    "# Dilatation: \n",
    "Apres avoir obtenu les images resultats de l'érosions, stockées dans la liste `Images_ero` cette opération remplir les lacunes dans la zone d'intérêt, fusionner les parties disjointes et élargir les contours\n",
    "\n",
    "La fonction prédefinie `morphology.binary_dilation` de la bibliothèque `skimage` est utilisée\n",
    "\n",
    "Les output sont stockées dans la liste `Images_dil`"
   ]
  },
  {
   "cell_type": "code",
   "execution_count": null,
   "id": "9357cd6e",
   "metadata": {
    "vscode": {
     "languageId": "plaintext"
    }
   },
   "outputs": [],
   "source": [
    "import numpy as np\n",
    "import matplotlib.pyplot as plt\n",
    "from skimage import color, morphology"
   ]
  },
  {
   "cell_type": "code",
   "execution_count": null,
   "id": "1cb81faf",
   "metadata": {
    "vscode": {
     "languageId": "plaintext"
    }
   },
   "outputs": [],
   "source": [
    "def fill_white_regions(image):\n",
    "    # Convertir l'image en niveaux de gris si elle est en couleur\n",
    "    if image.ndim == 3:\n",
    "        image = color.rgb2gray(image)\n",
    "\n",
    "    # Binariser l'image\n",
    "    binary_image = image > 0.5  # Ajuster le seuil selon votre image\n",
    "\n",
    "    # Utilisation de la dilatation binaire pour remplir les régions blanches\n",
    "    footprint = morphology.disk(2)  # Ajuster la taille du disque au besoin\n",
    "    filled_image = morphology.binary_dilation(binary_image, footprint=footprint)\n",
    "\n",
    "    plt.figure(figsize=(10, 4))\n",
    "    plt.subplot(1, 2, 1)\n",
    "    plt.imshow(binary_image, cmap='gray')\n",
    "    plt.title('Image binaire originale')\n",
    "\n",
    "    plt.subplot(1, 2, 2)\n",
    "    plt.imshow(filled_image, cmap='gray')\n",
    "    plt.title('Régions blanches remplies')\n",
    "\n",
    "    plt.show()\n",
    "\n",
    "    return filled_image\n",
    "\n",
    "Images_dil=[]\n",
    "for k in range (nbr):\n",
    "    Images_dil.append(fill_white_regions(Images_ero[k]))"
   ]
  },
  {
   "cell_type": "markdown",
   "id": "613d08b6",
   "metadata": {},
   "source": [
    "Si on remarque qu'il y a des images qui comportent encore des zones non remplies, nous définissons une fonction qui applique la dilatation avec la fonction `morphology.binary_dilation` sur les zones spécifiques à remplir: dilatation par régions"
   ]
  },
  {
   "cell_type": "code",
   "execution_count": null,
   "id": "43f4b328",
   "metadata": {
    "vscode": {
     "languageId": "plaintext"
    }
   },
   "outputs": [],
   "source": [
    "# Définition de la fonction pour remplir une zone spécifique dans une image\n",
    "def fill_specific_zone(image, xmin, xmax, ymin, ymax, footprint_size):\n",
    "    # Convertir l'image en niveaux de gris si elle est en couleur\n",
    "    if image.ndim == 3:\n",
    "        image = color.rgb2gray(image)\n",
    "\n",
    "    # Copier l'image originale pour éviter de modifier l'entrée\n",
    "    filled_image = np.copy(image)\n",
    "\n",
    "    # Extraire la zone spécifiée de l'image\n",
    "    zone = filled_image[ymin:ymax, xmin:xmax]\n",
    "\n",
    "    # Créer un masque binaire pour la zone spécifiée\n",
    "    binary_zone = zone > 0.5  # Ajuster le seuil selon votre image\n",
    "\n",
    "    # Utiliser une dilatation binaire pour remplir la zone spécifiée avec une empreinte spécifiée\n",
    "    footprint = morphology.disk(footprint_size)\n",
    "    filled_zone = morphology.binary_dilation(binary_zone, footprint=footprint)\n",
    "\n",
    "    # Mettre à jour l'image remplie avec la zone remplie\n",
    "    filled_image[ymin:ymax, xmin:xmax] = filled_zone.astype(filled_image.dtype)\n",
    "\n",
    "    return filled_image\n",
    "\n",
    "# Spécifier la boîte englobante de la zone que vous souhaitez remplir\n",
    "xmin, xmax, ymin, ymax = 80, 125, 80, 150\n",
    "\n",
    "# Spécifier la taille de l'empreinte pour remplir la première zone \n",
    "# valeur ajustée au besoin de l'image\n",
    "footprint_size = 3 \n",
    "\n",
    "# Appliquer la fonction à vos images et à la zone spécifiée\n",
    "filled_image_zone_1 = fill_specific_zone(Images_dil[4], xmin, xmax, ymin, ymax, footprint_size)\n",
    "\n",
    "# Spécifier la boîte englobante de la zone que vous souhaitez remplir\n",
    "xmin1, xmax1, ymin1, ymax1 = 70, 100, 40, 60\n",
    "\n",
    "# Spécifier la taille de l'empreinte pour remplir la deuxième zone\n",
    "# valeur ajustée au besoin de l'image\n",
    "footprint_size1 = 8 \n",
    "\n",
    "# Appliquer la fonction à vos images et à la zone spécifiée\n",
    "Images_dil[4] = fill_specific_zone(filled_image_zone_1, xmin1, xmax1, ymin1, ymax1, footprint_size1)\n",
    "\n",
    "# Visualiser les résultats\n",
    "plt.figure(figsize=(10, 4))\n",
    "\n",
    "plt.subplot(1, 2, 1)\n",
    "plt.imshow(Images_ero[4], cmap='gray')\n",
    "plt.title('Image originale')\n",
    "\n",
    "plt.subplot(1, 2, 2)\n",
    "plt.imshow(Images_dil[4], cmap='gray')\n",
    "plt.title('Résultat de dilatation')\n",
    "\n",
    "plt.show()\n",
    "\n"
   ]
  }
 ],
 "metadata": {
  "kernelspec": {
   "display_name": "Python 3 (ipykernel)",
   "language": "python",
   "name": "python3"
  },
  "language_info": {
   "codemirror_mode": {
    "name": "ipython",
    "version": 3
   },
   "file_extension": ".py",
   "mimetype": "text/x-python",
   "name": "python",
   "nbconvert_exporter": "python",
   "pygments_lexer": "ipython3",
   "version": "3.9.13"
  }
 },
 "nbformat": 4,
 "nbformat_minor": 5
}
