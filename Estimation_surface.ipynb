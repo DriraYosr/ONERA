{
 "cells": [
  {
   "cell_type": "code",
   "execution_count": null,
   "id": "1b5637fd",
   "metadata": {},
   "outputs": [],
   "source": [
    "from datetime import datetime\n",
    "from matplotlib.dates import AutoDateLocator, AutoDateFormatter, MonthLocator"
   ]
  },
  {
   "cell_type": "markdown",
   "id": "29b54231",
   "metadata": {},
   "source": [
    "# Comptage du nombre de pixels blancs"
   ]
  },
  {
   "cell_type": "code",
   "execution_count": null,
   "id": "d10a7a86",
   "metadata": {},
   "outputs": [],
   "source": [
    "Nbr_pixels_blancs=[]\n",
    "for k in range(nbr):\n",
    "    Nbr_pixels_blancs.append(np.sum(Images_dil[k] == 1))\n",
    "    print(\"Nombre de pixels de la zone blanche dans l'image numéro\", k+1 ,\" {} pixels carrés\".format(Nbr_pixels_blancs[k]))\n"
   ]
  },
  {
   "cell_type": "markdown",
   "id": "b79babd6",
   "metadata": {},
   "source": [
    "# Estimation de la surface\n",
    "Dans notre cas de données sentinel-1 IW, la cellule de resolution a la taille de 5*20 m = 100 m²"
   ]
  },
  {
   "cell_type": "code",
   "execution_count": null,
   "id": "907de596",
   "metadata": {},
   "outputs": [],
   "source": [
    "surface=[]\n",
    "for k in range(nbr):\n",
    "    surface.append(Nbr_pixels_blancs[k]*100)\n",
    "    print(\"Surface de la zone blanche dans l'image numéro\", k+1 ,\" {} est m²\".format(surface[k]))"
   ]
  },
  {
   "cell_type": "markdown",
   "id": "0f6b93e9",
   "metadata": {},
   "source": [
    "# Graphique du suivi des décharges\n",
    "NB: la liste `dates` est générée dans le premier notebook `ouvertures images` "
   ]
  },
  {
   "cell_type": "code",
   "execution_count": null,
   "id": "343712b5",
   "metadata": {},
   "outputs": [],
   "source": [
    "surface.insert(0,0)\n",
    "# Conversion des dates en objets datetime\n",
    "date_objects = [datetime.strptime(date, \"%d/%m/%Y\") for date in dates]\n",
    "# Traçage de l'évolution de la surface en fonction des dates\n",
    "plt.figure(figsize=(10, 6))\n",
    "plt.plot(date_objects, surface , marker='o', linestyle='-', color='b')\n",
    "plt.title('Évolution de la surface de décharge')\n",
    "plt.xlabel('Date')\n",
    "plt.ylabel('Surface (m²)')\n",
    "\n",
    "# Utilisation AutoDateLocator pour ajuster automatiquement l'échelle des dates\n",
    "locator = AutoDateLocator()\n",
    "plt.gca().xaxis.set_major_locator(locator)\n",
    "plt.gca().xaxis.set_major_formatter(AutoDateFormatter(locator))\n",
    "\n",
    "# Ajouter les mois à l'axe des x\n",
    "plt.gca().xaxis.set_minor_locator(MonthLocator())\n",
    "plt.xticks(rotation=45)\n",
    "\n",
    "plt.grid(True)\n",
    "plt.tight_layout()\n",
    "plt.show()"
   ]
  }
 ],
 "metadata": {
  "kernelspec": {
   "display_name": "Python 3 (ipykernel)",
   "language": "python",
   "name": "python3"
  },
  "language_info": {
   "codemirror_mode": {
    "name": "ipython",
    "version": 3
   },
   "file_extension": ".py",
   "mimetype": "text/x-python",
   "name": "python",
   "nbconvert_exporter": "python",
   "pygments_lexer": "ipython3",
   "version": "3.9.13"
  }
 },
 "nbformat": 4,
 "nbformat_minor": 5
}
